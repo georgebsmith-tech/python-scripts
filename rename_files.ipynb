{
 "cells": [
  {
   "cell_type": "code",
   "execution_count": 14,
   "metadata": {},
   "outputs": [],
   "source": [
    "import os\n",
    "def rename(directory,name_pre,ext=\".csv\"):\n",
    "    \"\"\"A pure function that renames all files in the base directory.\n",
    "    e.g\n",
    "    if the current working directory is C:/Users/USER/Desktop and files to be renamed are in \n",
    "    C:/Users/USER/Desktop/Business, then the function is called using:\n",
    "    \n",
    "    >>>rename(\"Business\",\"Bs\"). \n",
    "    \n",
    "    This will rename all files , given them the default \n",
    "    extension of .csv; this extention can how ever be changed in the function call , using \n",
    "    \n",
    "    >>>rename(\"Business\",\"Bs\",\".txt\")\n",
    "    \n",
    "    which gives the files extentions of .txt\"\"\"\n",
    "    if(ext[0]!=\".\"):\n",
    "        raise IOError(\"Not a valid extention\")\n",
    "    files=os.listdir(os.path.join(os.getcwd(),directory))\n",
    "    index=0\n",
    "    while(index!=len(files)):\n",
    "        os.rename(f\"{directory}/{files[index]}\",f\"{directory}/{name_pre}{index+1}{ext}\")\n",
    "        index+=1"
   ]
  },
  {
   "cell_type": "code",
   "execution_count": 19,
   "metadata": {},
   "outputs": [],
   "source": [
    "import os\n",
    "def rename(directory,name_pre,ext=\".csv\"):\n",
    "    \"\"\"A pure function that renames all files in the base directory.\n",
    "    e.g\n",
    "    if the current working directory is C:/Users/USER/Desktop and files to be renamed are in \n",
    "    C:/Users/USER/Desktop/Business, then the function is called using:\n",
    "    \n",
    "    >>>rename(\"Business\",\"Bs\"). \n",
    "    \n",
    "    This will rename all files , given them the default \n",
    "    extension of .csv; this extention can how ever be changed in the function call , using \n",
    "    \n",
    "    >>>rename(\"Business\",\"Bs\",\".txt\")\n",
    "    \n",
    "    which gives the files extentions of .txt\"\"\"\n",
    "    if(ext[0]!=\".\"):\n",
    "        raise IOError(\"Not a valid extention\")\n",
    "    files=os.listdir(os.path.join(os.getcwd(),directory))\n",
    "    index=0\n",
    "    while(index!=len(files)):\n",
    "        os.rename(f\"{directory}/{files[index]}\",f\"{directory}/{name_pre}{index+1}{ext}\")\n",
    "        index+=1"
   ]
  },
  {
   "cell_type": "code",
   "execution_count": null,
   "metadata": {},
   "outputs": [],
   "source": []
  },
  {
   "cell_type": "code",
   "execution_count": null,
   "metadata": {},
   "outputs": [],
   "source": []
  }
 ],
 "metadata": {
  "kernelspec": {
   "display_name": "Python 3",
   "language": "python",
   "name": "python3"
  },
  "language_info": {
   "codemirror_mode": {
    "name": "ipython",
    "version": 3
   },
   "file_extension": ".py",
   "mimetype": "text/x-python",
   "name": "python",
   "nbconvert_exporter": "python",
   "pygments_lexer": "ipython3",
   "version": "3.7.3"
  }
 },
 "nbformat": 4,
 "nbformat_minor": 2
}
